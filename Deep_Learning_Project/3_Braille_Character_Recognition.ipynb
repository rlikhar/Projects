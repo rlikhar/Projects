{
  "cells": [
    {
      "cell_type": "markdown",
      "source": [
        "# CNN for Braille Character Recognition"
      ],
      "metadata": {
        "id": "Upq42DA9Qals"
      }
    },
    {
      "cell_type": "code",
      "execution_count": 1,
      "metadata": {
        "id": "l5ALyZEPqfJK"
      },
      "outputs": [],
      "source": [
        "# Assignment Deep Learning"
      ]
    },
    {
      "cell_type": "markdown",
      "metadata": {
        "id": "UbRS2c8Pre2l"
      },
      "source": [
        "Data Description\n",
        "\n",
        "Title:\n",
        "Braille Character Dataset\n",
        "\n",
        "Description:\n",
        "This dataset was created for the purpose of training a CNN for \n",
        "Braille Character Recognition.\n",
        "\n",
        "Image Description:\n",
        "Each image is a 28x28 image in BW Scale.\n",
        "Each image name consists of the character alphabet and the number of the image \n",
        "and the type of data augmentation it went through. \n",
        "(i.e whs - width height shift, rot - Rotation, dim - brightness)\n",
        "\n",
        "Dataset composition:\n",
        "26 characters * 3 Augmentations * 20 different images of different augmentation values (i.e different shift,rotational and brightness values.)\n"
      ]
    },
    {
      "cell_type": "code",
      "execution_count": 2,
      "metadata": {
        "id": "lQ6OTixdq2Zl"
      },
      "outputs": [],
      "source": [
        "import os\n",
        "\n",
        "import numpy as np\n",
        "import pandas as pd\n",
        "from sklearn.model_selection import train_test_split, StratifiedShuffleSplit\n",
        "from matplotlib import pyplot as plt\n",
        "import seaborn as sns\n",
        "import tensorflow as tf\n",
        "\n",
        "from tensorflow.keras.preprocessing.image import ImageDataGenerator\n",
        "from tensorflow.keras.models import Sequential\n",
        "from tensorflow.keras.layers import Conv2D, MaxPool2D, Flatten, Dense\n",
        "from tensorflow.keras.utils import plot_model\n",
        "from tensorflow.keras.callbacks import EarlyStopping\n",
        "from tensorflow.keras.callbacks import TensorBoard\n",
        "from sklearn.metrics import confusion_matrix, classification_report"
      ]
    },
    {
      "cell_type": "code",
      "execution_count": 3,
      "metadata": {
        "id": "OlduJYYWtJTV"
      },
      "outputs": [],
      "source": [
        "df = pd.DataFrame(columns=[\"image_name\",\"label\"])"
      ]
    },
    {
      "cell_type": "code",
      "execution_count": 4,
      "metadata": {
        "id": "fgO4jViHqjBa"
      },
      "outputs": [],
      "source": [
        "# importing dataset\n",
        "\n",
        "img_dir = '/content/drive/MyDrive/Braille.zip (Unzipped Files)/Braille Dataset/Braille Dataset'"
      ]
    },
    {
      "cell_type": "code",
      "execution_count": 5,
      "metadata": {
        "id": "WH8GDtfksIgz"
      },
      "outputs": [],
      "source": [
        "# arranging and labeling the data\n",
        "\n",
        "for index, image in enumerate(os.listdir(img_dir)):\n",
        "    if image.startswith(\"a\"):\n",
        "        df.loc[index,\"image_name\"] = image\n",
        "        df.loc[index,\"label\"] = \"A\"\n",
        "    elif image.startswith(\"b\"):\n",
        "        df.loc[index,\"image_name\"] = image\n",
        "        df.loc[index] = [image,\"B\"]\n",
        "    elif image.startswith(\"c\"):\n",
        "        df.loc[index,\"image_name\"] = image\n",
        "        df.loc[index] = [image,\"C\"]\n",
        "    elif image.startswith(\"d\"):\n",
        "        df.loc[index,\"image_name\"] = image\n",
        "        df.loc[index] = [image,\"D\"]\n",
        "    elif image.startswith(\"e\"):\n",
        "        df.loc[index,\"image_name\"] = image\n",
        "        df.loc[index] = [image,\"E\"]\n",
        "    elif image.startswith(\"f\"):\n",
        "        df.loc[index,\"image_name\"] = image\n",
        "        df.loc[index] = [image,\"F\"]\n",
        "    elif image.startswith(\"g\"):\n",
        "        df.loc[index,\"image_name\"] = image\n",
        "        df.loc[index] = [image,\"G\"]\n",
        "    elif image.startswith(\"h\"):\n",
        "        df.loc[index,\"image_name\"] = image\n",
        "        df.loc[index] = [image,\"H\"]\n",
        "    elif image.startswith(\"i\"):\n",
        "        df.loc[index,\"image_name\"] = image\n",
        "        df.loc[index] = [image,\"I\"]\n",
        "    elif image.startswith(\"j\"):\n",
        "        df.loc[index,\"image_name\"] = image\n",
        "        df.loc[index] = [image,\"J\"]\n",
        "    elif image.startswith(\"k\"):\n",
        "        df.loc[index,\"image_name\"] = image\n",
        "        df.loc[index] = [image,\"K\"]\n",
        "    elif image.startswith(\"l\"):\n",
        "        df.loc[index,\"image_name\"] = image\n",
        "        df.loc[index] = [image,\"L\"]\n",
        "    elif image.startswith(\"m\"):\n",
        "        df.loc[index,\"image_name\"] = image\n",
        "        df.loc[index] = [image,\"M\"]\n",
        "    elif image.startswith(\"n\"):\n",
        "        df.loc[index,\"image_name\"] = image\n",
        "        df.loc[index] = [image,\"N\"]\n",
        "    elif image.startswith(\"o\"):\n",
        "        df.loc[index,\"image_name\"] = image\n",
        "        df.loc[index] = [image,\"O\"]\n",
        "    elif image.startswith(\"p\"):\n",
        "        df.loc[index,\"image_name\"] = image\n",
        "        df.loc[index] = [image,\"P\"]\n",
        "    elif image.startswith(\"q\"):\n",
        "        df.loc[index,\"image_name\"] = image\n",
        "        df.loc[index] = [image,\"Q\"]\n",
        "    elif image.startswith(\"r\"):\n",
        "        df.loc[index,\"image_name\"] = image\n",
        "        df.loc[index] = [image,\"R\"]\n",
        "    elif image.startswith(\"s\"):\n",
        "        df.loc[index,\"image_name\"] = image\n",
        "        df.loc[index] = [image,\"S\"]\n",
        "    elif image.startswith(\"t\"):\n",
        "        df.loc[index,\"image_name\"] = image\n",
        "        df.loc[index] = [image,\"T\"]\n",
        "    elif image.startswith(\"u\"):\n",
        "        df.loc[index,\"image_name\"] = image\n",
        "        df.loc[index] = [image,\"U\"]\n",
        "    elif image.startswith(\"v\"):\n",
        "        df.loc[index,\"image_name\"] = image\n",
        "        df.loc[index] = [image,\"V\"]\n",
        "    elif image.startswith(\"w\"):\n",
        "        df.loc[index,\"image_name\"] = image\n",
        "        df.loc[index] = [image,\"W\"]\n",
        "    elif image.startswith(\"x\"):\n",
        "        df.loc[index,\"image_name\"] = image\n",
        "        df.loc[index] = [image,\"X\"]\n",
        "    elif image.startswith(\"y\"):\n",
        "        df.loc[index,\"image_name\"] = image\n",
        "        df.loc[index] = [image,\"Y\"]\n",
        "    elif image.startswith(\"z\"):\n",
        "        df.loc[index,\"image_name\"] = image\n",
        "        df.loc[index] = [image,\"Z\"]"
      ]
    },
    {
      "cell_type": "code",
      "execution_count": 6,
      "metadata": {
        "colab": {
          "base_uri": "https://localhost:8080/"
        },
        "id": "9icYhO7utTiv",
        "outputId": "a8a3e955-ed34-400f-dfa5-8ade0a458bdb"
      },
      "outputs": [
        {
          "output_type": "execute_result",
          "data": {
            "text/plain": [
              "J    60\n",
              "K    60\n",
              "H    60\n",
              "G    60\n",
              "F    60\n",
              "E    60\n",
              "D    60\n",
              "C    60\n",
              "B    60\n",
              "A    60\n",
              "Z    60\n",
              "Y    60\n",
              "X    60\n",
              "W    60\n",
              "V    60\n",
              "U    60\n",
              "T    60\n",
              "S    60\n",
              "R    60\n",
              "Q    60\n",
              "P    60\n",
              "O    60\n",
              "N    60\n",
              "M    60\n",
              "L    60\n",
              "I    60\n",
              "Name: label, dtype: int64"
            ]
          },
          "metadata": {},
          "execution_count": 6
        }
      ],
      "source": [
        "df.label.value_counts()"
      ]
    },
    {
      "cell_type": "code",
      "execution_count": 7,
      "metadata": {
        "id": "kxNDBxdKurD3"
      },
      "outputs": [],
      "source": [
        "# Rescaling the data\n",
        "\n",
        "train_DataGenerator = ImageDataGenerator(\n",
        "    rescale=1/255,\n",
        "    validation_split=0.2\n",
        ")\n",
        "\n",
        "test_DataGenerator = ImageDataGenerator(\n",
        "    rescale=1/255,\n",
        ")"
      ]
    },
    {
      "cell_type": "code",
      "execution_count": 8,
      "metadata": {
        "id": "-uOmYzYvvA8N"
      },
      "outputs": [],
      "source": [
        "# Train Test Split\n",
        "\n",
        "train_df, test_df = train_test_split(df, test_size=0.3, shuffle=True, random_state=42)"
      ]
    },
    {
      "cell_type": "code",
      "execution_count": 9,
      "metadata": {
        "colab": {
          "base_uri": "https://localhost:8080/"
        },
        "id": "fk7Ma8VqvJmD",
        "outputId": "29e62725-74e8-498d-d40d-d632465e952b"
      },
      "outputs": [
        {
          "output_type": "stream",
          "name": "stdout",
          "text": [
            "Found 874 validated image filenames belonging to 26 classes.\n",
            "Found 218 validated image filenames belonging to 26 classes.\n",
            "Found 468 validated image filenames belonging to 26 classes.\n"
          ]
        }
      ],
      "source": [
        "train_images = train_DataGenerator.flow_from_dataframe(\n",
        "    dataframe=train_df,\n",
        "    x_col=\"image_name\",\n",
        "    y_col=\"label\",\n",
        "    directory = img_dir,\n",
        "    target_size=(224, 224),\n",
        "    class_mode=\"categorical\",\n",
        "    seed=42,\n",
        "    subset='training'\n",
        ")\n",
        "\n",
        "val_images = train_DataGenerator.flow_from_dataframe(\n",
        "    dataframe=train_df,\n",
        "    x_col=\"image_name\",\n",
        "    y_col=\"label\",\n",
        "    directory = img_dir,\n",
        "    target_size=(224, 224),\n",
        "    class_mode=\"categorical\",\n",
        "    seed=42,\n",
        "    subset='validation'\n",
        ")\n",
        "\n",
        "test_images = test_DataGenerator.flow_from_dataframe(\n",
        "    dataframe=test_df,\n",
        "    x_col=\"image_name\",\n",
        "    y_col=\"label\",\n",
        "    directory = img_dir,\n",
        "    target_size=(224, 224),\n",
        "    class_mode=\"categorical\"\n",
        ")"
      ]
    },
    {
      "cell_type": "code",
      "execution_count": 10,
      "metadata": {
        "colab": {
          "base_uri": "https://localhost:8080/"
        },
        "id": "-UEpmAI_28xW",
        "outputId": "2d09428a-f279-4957-f9b0-cfbb3316a9e1"
      },
      "outputs": [
        {
          "output_type": "execute_result",
          "data": {
            "text/plain": [
              "(224, 224, 3)"
            ]
          },
          "metadata": {},
          "execution_count": 10
        }
      ],
      "source": [
        "train_images.image_shape"
      ]
    },
    {
      "cell_type": "code",
      "execution_count": 11,
      "metadata": {
        "colab": {
          "base_uri": "https://localhost:8080/"
        },
        "id": "5yW_0aX9vXUs",
        "outputId": "9bb05a9a-e9de-4e5b-d8f3-f7c87022369e"
      },
      "outputs": [
        {
          "output_type": "execute_result",
          "data": {
            "text/plain": [
              "(224, 224, 3)"
            ]
          },
          "metadata": {},
          "execution_count": 11
        }
      ],
      "source": [
        "test_images.image_shape"
      ]
    },
    {
      "cell_type": "code",
      "execution_count": 12,
      "metadata": {
        "colab": {
          "base_uri": "https://localhost:8080/"
        },
        "id": "cTTSKJJbveUN",
        "outputId": "5e392114-4daf-460f-d5b9-60e11945d741"
      },
      "outputs": [
        {
          "output_type": "execute_result",
          "data": {
            "text/plain": [
              "{'A': 0,\n",
              " 'B': 1,\n",
              " 'C': 2,\n",
              " 'D': 3,\n",
              " 'E': 4,\n",
              " 'F': 5,\n",
              " 'G': 6,\n",
              " 'H': 7,\n",
              " 'I': 8,\n",
              " 'J': 9,\n",
              " 'K': 10,\n",
              " 'L': 11,\n",
              " 'M': 12,\n",
              " 'N': 13,\n",
              " 'O': 14,\n",
              " 'P': 15,\n",
              " 'Q': 16,\n",
              " 'R': 17,\n",
              " 'S': 18,\n",
              " 'T': 19,\n",
              " 'U': 20,\n",
              " 'V': 21,\n",
              " 'W': 22,\n",
              " 'X': 23,\n",
              " 'Y': 24,\n",
              " 'Z': 25}"
            ]
          },
          "metadata": {},
          "execution_count": 12
        }
      ],
      "source": [
        "test_images.class_indices"
      ]
    },
    {
      "cell_type": "code",
      "execution_count": 13,
      "metadata": {
        "colab": {
          "base_uri": "https://localhost:8080/"
        },
        "id": "ytJSRe__vevS",
        "outputId": "726d0b1a-a15a-4c5a-fa52-b52d5eeee687"
      },
      "outputs": [
        {
          "output_type": "execute_result",
          "data": {
            "text/plain": [
              "{'A': 0,\n",
              " 'B': 1,\n",
              " 'C': 2,\n",
              " 'D': 3,\n",
              " 'E': 4,\n",
              " 'F': 5,\n",
              " 'G': 6,\n",
              " 'H': 7,\n",
              " 'I': 8,\n",
              " 'J': 9,\n",
              " 'K': 10,\n",
              " 'L': 11,\n",
              " 'M': 12,\n",
              " 'N': 13,\n",
              " 'O': 14,\n",
              " 'P': 15,\n",
              " 'Q': 16,\n",
              " 'R': 17,\n",
              " 'S': 18,\n",
              " 'T': 19,\n",
              " 'U': 20,\n",
              " 'V': 21,\n",
              " 'W': 22,\n",
              " 'X': 23,\n",
              " 'Y': 24,\n",
              " 'Z': 25}"
            ]
          },
          "metadata": {},
          "execution_count": 13
        }
      ],
      "source": [
        "train_images.class_indices"
      ]
    },
    {
      "cell_type": "code",
      "execution_count": 14,
      "metadata": {
        "id": "kRR6hK4ovilG"
      },
      "outputs": [],
      "source": [
        "# Creating a CNN Model\n",
        "\n",
        "model = Sequential([\n",
        "    Conv2D(filters = 16, kernel_size = (3,3), activation = \"relu\", input_shape = (224, 224, 3), name= \"Input_Layer\"),\n",
        "    Conv2D(filters = 32, kernel_size = (3,3), activation = \"relu\", name= \"Conv_1\"),\n",
        "    MaxPool2D((2,2), name = \"Pooling_1\"),\n",
        "    Conv2D(filters = 32, kernel_size = (3,3), activation = \"relu\", name= \"Conv_2\"),\n",
        "    Conv2D(filters = 64, kernel_size = (3,3), activation = \"relu\", name= \"Conv_3\"),\n",
        "    MaxPool2D((2,2), name = \"Pooling_2\"),\n",
        "    Conv2D(filters = 64, kernel_size = (3,3), activation = \"relu\", name= \"Conv_4\"),\n",
        "    Conv2D(filters = 128, kernel_size = (3,3), activation = \"relu\", name= \"Conv_5\"),\n",
        "    MaxPool2D((2,2), name = \"Pooling_3\"),\n",
        "    Flatten(),\n",
        "    Dense(128, activation=\"relu\", name=\"Dense_1\"),\n",
        "    Dense(64, activation=\"relu\", name=\"Dense_2\"),\n",
        "    Dense(26, activation='softmax', name= 'Output')])\n",
        "    "
      ]
    },
    {
      "cell_type": "code",
      "execution_count": 15,
      "metadata": {
        "colab": {
          "base_uri": "https://localhost:8080/"
        },
        "id": "zr33w_qRvlMS",
        "outputId": "e6e6ad88-22f7-4799-c3ac-dd966336aef4"
      },
      "outputs": [
        {
          "output_type": "stream",
          "name": "stdout",
          "text": [
            "Model: \"sequential\"\n",
            "_________________________________________________________________\n",
            " Layer (type)                Output Shape              Param #   \n",
            "=================================================================\n",
            " Input_Layer (Conv2D)        (None, 222, 222, 16)      448       \n",
            "                                                                 \n",
            " Conv_1 (Conv2D)             (None, 220, 220, 32)      4640      \n",
            "                                                                 \n",
            " Pooling_1 (MaxPooling2D)    (None, 110, 110, 32)      0         \n",
            "                                                                 \n",
            " Conv_2 (Conv2D)             (None, 108, 108, 32)      9248      \n",
            "                                                                 \n",
            " Conv_3 (Conv2D)             (None, 106, 106, 64)      18496     \n",
            "                                                                 \n",
            " Pooling_2 (MaxPooling2D)    (None, 53, 53, 64)        0         \n",
            "                                                                 \n",
            " Conv_4 (Conv2D)             (None, 51, 51, 64)        36928     \n",
            "                                                                 \n",
            " Conv_5 (Conv2D)             (None, 49, 49, 128)       73856     \n",
            "                                                                 \n",
            " Pooling_3 (MaxPooling2D)    (None, 24, 24, 128)       0         \n",
            "                                                                 \n",
            " flatten (Flatten)           (None, 73728)             0         \n",
            "                                                                 \n",
            " Dense_1 (Dense)             (None, 128)               9437312   \n",
            "                                                                 \n",
            " Dense_2 (Dense)             (None, 64)                8256      \n",
            "                                                                 \n",
            " Output (Dense)              (None, 26)                1690      \n",
            "                                                                 \n",
            "=================================================================\n",
            "Total params: 9,590,874\n",
            "Trainable params: 9,590,874\n",
            "Non-trainable params: 0\n",
            "_________________________________________________________________\n"
          ]
        }
      ],
      "source": [
        "model.summary()"
      ]
    },
    {
      "cell_type": "code",
      "execution_count": 16,
      "metadata": {
        "id": "lmrgC8_Fvnza"
      },
      "outputs": [],
      "source": [
        "model.compile(\n",
        "    optimizer=\"adam\",\n",
        "    loss=\"categorical_crossentropy\",\n",
        "    metrics=\"accuracy\"\n",
        ")\n"
      ]
    },
    {
      "cell_type": "code",
      "execution_count": 17,
      "metadata": {
        "id": "-oRSgZUmvxOl"
      },
      "outputs": [],
      "source": [
        "es_callback = EarlyStopping(\n",
        "    monitor = 'val_loss',\n",
        "    patience=5,\n",
        "    restore_best_weights = True\n",
        "    \n",
        ")"
      ]
    },
    {
      "cell_type": "code",
      "execution_count": 18,
      "metadata": {
        "id": "h6yHOgiLvzam"
      },
      "outputs": [],
      "source": [
        "tb_callback = TensorBoard(log_dir = \"../tensorboard_logs\", histogram_freq = 1)"
      ]
    },
    {
      "cell_type": "code",
      "execution_count": 19,
      "metadata": {
        "colab": {
          "base_uri": "https://localhost:8080/"
        },
        "id": "RMNwSlpYv1K1",
        "outputId": "99b24048-e13c-4a4b-8d89-36330e1fb90c"
      },
      "outputs": [
        {
          "output_type": "stream",
          "name": "stdout",
          "text": [
            "Epoch 1/20\n",
            "28/28 [==============================] - 111s 4s/step - loss: 3.2684 - accuracy: 0.0595 - val_loss: 2.7166 - val_accuracy: 0.2615\n",
            "Epoch 2/20\n",
            "28/28 [==============================] - 109s 4s/step - loss: 2.1372 - accuracy: 0.4394 - val_loss: 1.8430 - val_accuracy: 0.5138\n",
            "Epoch 3/20\n",
            "28/28 [==============================] - 111s 4s/step - loss: 1.2047 - accuracy: 0.6739 - val_loss: 1.6289 - val_accuracy: 0.5688\n",
            "Epoch 4/20\n",
            "28/28 [==============================] - 110s 4s/step - loss: 0.7125 - accuracy: 0.8101 - val_loss: 1.4291 - val_accuracy: 0.6101\n",
            "Epoch 5/20\n",
            "28/28 [==============================] - 113s 4s/step - loss: 0.3754 - accuracy: 0.9016 - val_loss: 2.1037 - val_accuracy: 0.6284\n",
            "Epoch 6/20\n",
            "28/28 [==============================] - 113s 4s/step - loss: 0.1613 - accuracy: 0.9519 - val_loss: 1.9307 - val_accuracy: 0.6606\n",
            "Epoch 7/20\n",
            "28/28 [==============================] - 111s 4s/step - loss: 0.1387 - accuracy: 0.9634 - val_loss: 1.7664 - val_accuracy: 0.6606\n",
            "Epoch 8/20\n",
            "28/28 [==============================] - 113s 4s/step - loss: 0.0806 - accuracy: 0.9794 - val_loss: 2.9958 - val_accuracy: 0.6514\n",
            "Epoch 9/20\n",
            "28/28 [==============================] - 114s 4s/step - loss: 0.0474 - accuracy: 0.9886 - val_loss: 2.7115 - val_accuracy: 0.6330\n"
          ]
        }
      ],
      "source": [
        "history = model.fit(\n",
        "    train_images,\n",
        "    epochs = 20, \n",
        "    validation_data=val_images,\n",
        "    callbacks=[es_callback,tb_callback]\n",
        ")\n"
      ]
    },
    {
      "cell_type": "code",
      "execution_count": 20,
      "metadata": {
        "id": "LmDCrX5Dv2-a",
        "colab": {
          "base_uri": "https://localhost:8080/"
        },
        "outputId": "2becf6c0-8a1f-41d3-8cab-c0891452a3d4"
      },
      "outputs": [
        {
          "output_type": "execute_result",
          "data": {
            "text/plain": [
              "dict_keys(['loss', 'accuracy', 'val_loss', 'val_accuracy'])"
            ]
          },
          "metadata": {},
          "execution_count": 20
        }
      ],
      "source": [
        "history.history.keys()"
      ]
    },
    {
      "cell_type": "code",
      "execution_count": 21,
      "metadata": {
        "colab": {
          "base_uri": "https://localhost:8080/",
          "height": 573
        },
        "id": "yVyVYtRjv4-W",
        "outputId": "40fae241-cd9d-4245-af56-8ec229ef57b2"
      },
      "outputs": [
        {
          "output_type": "display_data",
          "data": {
            "text/plain": [
              "<Figure size 432x288 with 1 Axes>"
            ],
            "image/png": "[encoded data removed]"
          },
          "metadata": {
            "needs_background": "light"
          }
        },
        {
          "output_type": "display_data",
          "data": {
            "text/plain": [
              "<Figure size 432x288 with 1 Axes>"
            ],
            "image/png": "[encoded data removed]"
          },
          "metadata": {
            "needs_background": "light"
          }
        }
      ],
      "source": [
        "plt.plot(history.history['accuracy'], label=\"train_accuracy\")\n",
        "plt.plot(history.history['val_accuracy'], label=\"val_accuracy\")\n",
        "plt.title(\"Accuracy vs Epoch Plot\")\n",
        "plt.xlabel(\"Epochs\")\n",
        "plt.ylabel(\"Accuracy\")\n",
        "plt.legend()\n",
        "plt.show()\n",
        "\n",
        "plt.plot(history.history['loss'], label=\"train_loss\")\n",
        "plt.plot(history.history['val_loss'], label=\"val_loss\")\n",
        "plt.title(\"Loss vs Epoch Plot\")\n",
        "plt.xlabel(\"Epochs\")\n",
        "plt.ylabel(\"Loss\")\n",
        "plt.legend()\n",
        "plt.show()"
      ]
    },
    {
      "cell_type": "code",
      "execution_count": 22,
      "metadata": {
        "id": "yBD8cNPwwb33"
      },
      "outputs": [],
      "source": [
        "# Saving the model\n",
        "\n",
        "# model.save(\"../models/assignmnet_model.h5\", save_format='h5')"
      ]
    },
    {
      "cell_type": "code",
      "execution_count": 23,
      "metadata": {
        "colab": {
          "base_uri": "https://localhost:8080/"
        },
        "id": "V5H8Y0BrwhWt",
        "outputId": "915f9261-3429-4c17-cc9c-079f6183b59c"
      },
      "outputs": [
        {
          "output_type": "stream",
          "name": "stdout",
          "text": [
            "15/15 [==============================] - 15s 971ms/step - loss: 1.6596 - accuracy: 0.6175\n"
          ]
        },
        {
          "output_type": "execute_result",
          "data": {
            "text/plain": [
              "[1.6595560312271118, 0.617521345615387]"
            ]
          },
          "metadata": {},
          "execution_count": 23
        }
      ],
      "source": [
        "model.evaluate(test_images)\n"
      ]
    },
    {
      "cell_type": "code",
      "execution_count": 24,
      "metadata": {
        "id": "F-WvCwi4wjTI",
        "colab": {
          "base_uri": "https://localhost:8080/"
        },
        "outputId": "1eafb307-2832-4d5d-8e87-d1a9da4c4c9d"
      },
      "outputs": [
        {
          "output_type": "stream",
          "name": "stdout",
          "text": [
            "15/15 [==============================] - 15s 986ms/step\n"
          ]
        }
      ],
      "source": [
        "y_predicted = model.predict(test_images)"
      ]
    },
    {
      "cell_type": "code",
      "execution_count": 25,
      "metadata": {
        "colab": {
          "base_uri": "https://localhost:8080/"
        },
        "id": "nplgEPRfwlYP",
        "outputId": "2971cf9a-00de-4c8a-a794-a3a1f487fc14"
      },
      "outputs": [
        {
          "output_type": "execute_result",
          "data": {
            "text/plain": [
              "(468, 26)"
            ]
          },
          "metadata": {},
          "execution_count": 25
        }
      ],
      "source": [
        "y_predicted.shape"
      ]
    },
    {
      "cell_type": "code",
      "execution_count": 26,
      "metadata": {
        "colab": {
          "base_uri": "https://localhost:8080/"
        },
        "id": "LEn4FmAEwtUz",
        "outputId": "1d5cf881-d13c-4f63-fa68-1311a7fcbceb"
      },
      "outputs": [
        {
          "output_type": "execute_result",
          "data": {
            "text/plain": [
              "array([1.9668419e-06, 2.0782213e-06, 2.2974239e-06, 1.5977354e-06,\n",
              "       3.1735592e-05, 4.3466483e-05, 4.3545421e-03, 2.2815559e-03,\n",
              "       1.9895835e-01, 7.7696288e-01, 1.0613868e-06, 3.8155014e-07,\n",
              "       8.9564688e-05, 5.9200892e-07, 1.5023828e-06, 1.5247255e-04,\n",
              "       3.3610440e-03, 1.8232361e-06, 6.7818328e-05, 3.4711959e-03,\n",
              "       1.6145036e-07, 4.8092807e-06, 9.5744766e-03, 1.4321817e-04,\n",
              "       6.0086372e-06, 4.8342568e-04], dtype=float32)"
            ]
          },
          "metadata": {},
          "execution_count": 26
        }
      ],
      "source": [
        "y_predicted[1]"
      ]
    },
    {
      "cell_type": "code",
      "execution_count": 27,
      "metadata": {
        "colab": {
          "base_uri": "https://localhost:8080/"
        },
        "id": "FRlgKAnHwrDP",
        "outputId": "ed025e71-2e99-4a17-aff4-1f39c8829956"
      },
      "outputs": [
        {
          "output_type": "execute_result",
          "data": {
            "text/plain": [
              "9"
            ]
          },
          "metadata": {},
          "execution_count": 27
        }
      ],
      "source": [
        "np.argmax(y_predicted[1])"
      ]
    },
    {
      "cell_type": "code",
      "execution_count": 28,
      "metadata": {
        "colab": {
          "base_uri": "https://localhost:8080/"
        },
        "id": "zKS27wHkwnW_",
        "outputId": "f607a379-3374-4468-d905-618c6b066273"
      },
      "outputs": [
        {
          "output_type": "execute_result",
          "data": {
            "text/plain": [
              "[2, 9, 25, 8, 8]"
            ]
          },
          "metadata": {},
          "execution_count": 28
        }
      ],
      "source": [
        "y_predicted_labels = [np.argmax(i) for i in y_predicted]\n",
        "y_predicted_labels[:5]"
      ]
    },
    {
      "cell_type": "code",
      "execution_count": 29,
      "metadata": {
        "colab": {
          "base_uri": "https://localhost:8080/"
        },
        "id": "Ka693SZnwvsF",
        "outputId": "954b4fd9-18f5-4b6e-9058-d353c4cba124"
      },
      "outputs": [
        {
          "output_type": "execute_result",
          "data": {
            "text/plain": [
              "[8, 0, 15, 20, 20]"
            ]
          },
          "metadata": {},
          "execution_count": 29
        }
      ],
      "source": [
        "test_images.labels[:5]"
      ]
    },
    {
      "cell_type": "code",
      "execution_count": 29,
      "metadata": {
        "id": "4TDxD6Zww0CW"
      },
      "outputs": [],
      "source": []
    },
    {
      "cell_type": "code",
      "source": [
        "# Using inception_v1/classification\n"
      ],
      "metadata": {
        "id": "kotUGhkkJgjB"
      },
      "execution_count": 30,
      "outputs": []
    },
    {
      "cell_type": "code",
      "source": [
        "import tensorflow as tf\n",
        "from tensorflow import keras\n",
        "import tensorflow_hub as hub"
      ],
      "metadata": {
        "id": "n5b--qkTJggh"
      },
      "execution_count": 31,
      "outputs": []
    },
    {
      "cell_type": "code",
      "source": [
        "\n",
        "model_inception = tf.keras.Sequential([\n",
        "    hub.KerasLayer(\"https://tfhub.dev/google/imagenet/inception_v1/classification/5\", trainable=False),\n",
        "    tf.keras.layers.Dense(26, activation='softmax')\n",
        "])\n",
        "\n",
        "model.summary()"
      ],
      "metadata": {
        "colab": {
          "base_uri": "https://localhost:8080/"
        },
        "id": "IePuhN_FJgev",
        "outputId": "ec43a440-e0f4-4522-e873-5eb07329c776"
      },
      "execution_count": 32,
      "outputs": [
        {
          "output_type": "stream",
          "name": "stdout",
          "text": [
            "Model: \"sequential\"\n",
            "_________________________________________________________________\n",
            " Layer (type)                Output Shape              Param #   \n",
            "=================================================================\n",
            " Input_Layer (Conv2D)        (None, 222, 222, 16)      448       \n",
            "                                                                 \n",
            " Conv_1 (Conv2D)             (None, 220, 220, 32)      4640      \n",
            "                                                                 \n",
            " Pooling_1 (MaxPooling2D)    (None, 110, 110, 32)      0         \n",
            "                                                                 \n",
            " Conv_2 (Conv2D)             (None, 108, 108, 32)      9248      \n",
            "                                                                 \n",
            " Conv_3 (Conv2D)             (None, 106, 106, 64)      18496     \n",
            "                                                                 \n",
            " Pooling_2 (MaxPooling2D)    (None, 53, 53, 64)        0         \n",
            "                                                                 \n",
            " Conv_4 (Conv2D)             (None, 51, 51, 64)        36928     \n",
            "                                                                 \n",
            " Conv_5 (Conv2D)             (None, 49, 49, 128)       73856     \n",
            "                                                                 \n",
            " Pooling_3 (MaxPooling2D)    (None, 24, 24, 128)       0         \n",
            "                                                                 \n",
            " flatten (Flatten)           (None, 73728)             0         \n",
            "                                                                 \n",
            " Dense_1 (Dense)             (None, 128)               9437312   \n",
            "                                                                 \n",
            " Dense_2 (Dense)             (None, 64)                8256      \n",
            "                                                                 \n",
            " Output (Dense)              (None, 26)                1690      \n",
            "                                                                 \n",
            "=================================================================\n",
            "Total params: 9,590,874\n",
            "Trainable params: 9,590,874\n",
            "Non-trainable params: 0\n",
            "_________________________________________________________________\n"
          ]
        }
      ]
    },
    {
      "cell_type": "code",
      "source": [
        "model_inception.compile(\n",
        "    optimizer=\"rmsprop\",\n",
        "    loss=\"categorical_crossentropy\",\n",
        "    metrics=\"accuracy\"\n",
        ")"
      ],
      "metadata": {
        "id": "364kqQ_RJgc6"
      },
      "execution_count": 33,
      "outputs": []
    },
    {
      "cell_type": "code",
      "source": [
        "history_inception = model_inception.fit(\n",
        "    train_images,\n",
        "    epochs = 20,   # max 15 epoch\n",
        "    validation_data=val_images,\n",
        "    callbacks=[es_callback,tb_callback]\n",
        ")\n"
      ],
      "metadata": {
        "colab": {
          "base_uri": "https://localhost:8080/"
        },
        "id": "1siNE_spJga4",
        "outputId": "9f8240cf-1bda-425c-e0e7-c202f943bf4f"
      },
      "execution_count": 34,
      "outputs": [
        {
          "output_type": "stream",
          "name": "stdout",
          "text": [
            "Epoch 1/20\n",
            "28/28 [==============================] - 68s 2s/step - loss: 3.5036 - accuracy: 0.0938 - val_loss: 2.8519 - val_accuracy: 0.1881\n",
            "Epoch 2/20\n",
            "28/28 [==============================] - 70s 3s/step - loss: 2.3762 - accuracy: 0.2792 - val_loss: 2.1986 - val_accuracy: 0.3165\n",
            "Epoch 3/20\n",
            "28/28 [==============================] - 62s 2s/step - loss: 1.9088 - accuracy: 0.4130 - val_loss: 1.9065 - val_accuracy: 0.3853\n",
            "Epoch 4/20\n",
            "28/28 [==============================] - 77s 3s/step - loss: 1.5513 - accuracy: 0.5503 - val_loss: 1.7793 - val_accuracy: 0.4128\n",
            "Epoch 5/20\n",
            "28/28 [==============================] - 76s 3s/step - loss: 1.3285 - accuracy: 0.6327 - val_loss: 1.6376 - val_accuracy: 0.5321\n",
            "Epoch 6/20\n",
            "28/28 [==============================] - 74s 3s/step - loss: 1.1697 - accuracy: 0.6819 - val_loss: 1.5540 - val_accuracy: 0.4954\n",
            "Epoch 7/20\n",
            "28/28 [==============================] - 73s 3s/step - loss: 1.0100 - accuracy: 0.7185 - val_loss: 1.0973 - val_accuracy: 0.6972\n",
            "Epoch 8/20\n",
            "28/28 [==============================] - 73s 3s/step - loss: 0.8773 - accuracy: 0.7757 - val_loss: 1.2124 - val_accuracy: 0.6330\n",
            "Epoch 9/20\n",
            "28/28 [==============================] - 72s 3s/step - loss: 0.7819 - accuracy: 0.7986 - val_loss: 1.1048 - val_accuracy: 0.6651\n",
            "Epoch 10/20\n",
            "28/28 [==============================] - 64s 2s/step - loss: 0.7343 - accuracy: 0.7952 - val_loss: 1.0972 - val_accuracy: 0.6743\n",
            "Epoch 11/20\n",
            "28/28 [==============================] - 73s 3s/step - loss: 0.6474 - accuracy: 0.8307 - val_loss: 0.8747 - val_accuracy: 0.7431\n",
            "Epoch 12/20\n",
            "28/28 [==============================] - 72s 3s/step - loss: 0.5900 - accuracy: 0.8547 - val_loss: 0.9691 - val_accuracy: 0.7248\n",
            "Epoch 13/20\n",
            "28/28 [==============================] - 64s 2s/step - loss: 0.5355 - accuracy: 0.8707 - val_loss: 0.8631 - val_accuracy: 0.7110\n",
            "Epoch 14/20\n",
            "28/28 [==============================] - 62s 2s/step - loss: 0.5022 - accuracy: 0.8844 - val_loss: 0.8980 - val_accuracy: 0.7248\n",
            "Epoch 15/20\n",
            "28/28 [==============================] - 67s 2s/step - loss: 0.4445 - accuracy: 0.9050 - val_loss: 0.8470 - val_accuracy: 0.7294\n",
            "Epoch 16/20\n",
            "28/28 [==============================] - 57s 2s/step - loss: 0.4222 - accuracy: 0.9062 - val_loss: 0.8162 - val_accuracy: 0.7523\n",
            "Epoch 17/20\n",
            "28/28 [==============================] - 68s 2s/step - loss: 0.3971 - accuracy: 0.9073 - val_loss: 0.7507 - val_accuracy: 0.7706\n",
            "Epoch 18/20\n",
            "28/28 [==============================] - 58s 2s/step - loss: 0.3514 - accuracy: 0.9188 - val_loss: 0.8329 - val_accuracy: 0.7477\n",
            "Epoch 19/20\n",
            "28/28 [==============================] - 68s 2s/step - loss: 0.3173 - accuracy: 0.9348 - val_loss: 0.8034 - val_accuracy: 0.7661\n",
            "Epoch 20/20\n",
            "28/28 [==============================] - 68s 2s/step - loss: 0.3078 - accuracy: 0.9416 - val_loss: 0.7285 - val_accuracy: 0.7661\n"
          ]
        }
      ]
    },
    {
      "cell_type": "code",
      "source": [
        "model_inception.evaluate(test_images)\n"
      ],
      "metadata": {
        "colab": {
          "base_uri": "https://localhost:8080/"
        },
        "id": "AkxFwueDJgYo",
        "outputId": "8dea9c68-d49c-4e29-c4f2-9d18d87bd1dd"
      },
      "execution_count": 35,
      "outputs": [
        {
          "output_type": "stream",
          "name": "stdout",
          "text": [
            "15/15 [==============================] - 24s 2s/step - loss: 0.7571 - accuracy: 0.7799\n"
          ]
        },
        {
          "output_type": "execute_result",
          "data": {
            "text/plain": [
              "[0.7570890784263611, 0.7799145579338074]"
            ]
          },
          "metadata": {},
          "execution_count": 35
        }
      ]
    },
    {
      "cell_type": "code",
      "source": [],
      "metadata": {
        "id": "n4GraqoFJgHm"
      },
      "execution_count": 35,
      "outputs": []
    },
    {
      "cell_type": "code",
      "execution_count": 36,
      "metadata": {
        "id": "GqiAdfQtw2aH"
      },
      "outputs": [],
      "source": [
        "# Using Resnet"
      ]
    },
    {
      "cell_type": "code",
      "execution_count": 37,
      "metadata": {
        "id": "_5-nhia1CbcJ"
      },
      "outputs": [],
      "source": [
        "import tensorflow as tf\n",
        "from tensorflow import keras\n",
        "import tensorflow_hub as hub"
      ]
    },
    {
      "cell_type": "code",
      "execution_count": 38,
      "metadata": {
        "colab": {
          "base_uri": "https://localhost:8080/"
        },
        "id": "PKd44Lbw1wVL",
        "outputId": "27a4bacc-70df-454a-8e42-cb36e65443ee"
      },
      "outputs": [
        {
          "output_type": "stream",
          "name": "stdout",
          "text": [
            "Model: \"sequential\"\n",
            "_________________________________________________________________\n",
            " Layer (type)                Output Shape              Param #   \n",
            "=================================================================\n",
            " Input_Layer (Conv2D)        (None, 222, 222, 16)      448       \n",
            "                                                                 \n",
            " Conv_1 (Conv2D)             (None, 220, 220, 32)      4640      \n",
            "                                                                 \n",
            " Pooling_1 (MaxPooling2D)    (None, 110, 110, 32)      0         \n",
            "                                                                 \n",
            " Conv_2 (Conv2D)             (None, 108, 108, 32)      9248      \n",
            "                                                                 \n",
            " Conv_3 (Conv2D)             (None, 106, 106, 64)      18496     \n",
            "                                                                 \n",
            " Pooling_2 (MaxPooling2D)    (None, 53, 53, 64)        0         \n",
            "                                                                 \n",
            " Conv_4 (Conv2D)             (None, 51, 51, 64)        36928     \n",
            "                                                                 \n",
            " Conv_5 (Conv2D)             (None, 49, 49, 128)       73856     \n",
            "                                                                 \n",
            " Pooling_3 (MaxPooling2D)    (None, 24, 24, 128)       0         \n",
            "                                                                 \n",
            " flatten (Flatten)           (None, 73728)             0         \n",
            "                                                                 \n",
            " Dense_1 (Dense)             (None, 128)               9437312   \n",
            "                                                                 \n",
            " Dense_2 (Dense)             (None, 64)                8256      \n",
            "                                                                 \n",
            " Output (Dense)              (None, 26)                1690      \n",
            "                                                                 \n",
            "=================================================================\n",
            "Total params: 9,590,874\n",
            "Trainable params: 9,590,874\n",
            "Non-trainable params: 0\n",
            "_________________________________________________________________\n"
          ]
        }
      ],
      "source": [
        "\n",
        "model_resnet = tf.keras.Sequential([\n",
        "  hub.KerasLayer(\"https://tfhub.dev/google/supcon/resnet_v1_200/imagenet/classification/1\", trainable=False),\n",
        "  tf.keras.layers.Dense(26, activation='softmax')\n",
        "])\n",
        "\n",
        "model.summary()"
      ]
    },
    {
      "cell_type": "code",
      "execution_count": 39,
      "metadata": {
        "id": "7EClgFQN4GSX"
      },
      "outputs": [],
      "source": [
        "model_resnet.compile(\n",
        "    optimizer=\"adam\",\n",
        "    loss=\"categorical_crossentropy\",\n",
        "    metrics=\"accuracy\"\n",
        ")"
      ]
    },
    {
      "cell_type": "code",
      "execution_count": null,
      "metadata": {
        "colab": {
          "base_uri": "https://localhost:8080/"
        },
        "id": "nzdI192k4WX0",
        "outputId": "11ca57f5-b8df-464b-db74-8402a5f3117f"
      },
      "outputs": [
        {
          "output_type": "stream",
          "name": "stdout",
          "text": [
            "Epoch 1/20\n",
            "28/28 [==============================] - 512s 18s/step - loss: 3.3148 - accuracy: 0.0709 - val_loss: 3.1400 - val_accuracy: 0.0963\n",
            "Epoch 2/20\n",
            "28/28 [==============================] - 521s 19s/step - loss: 2.9024 - accuracy: 0.1648 - val_loss: 2.9087 - val_accuracy: 0.1514\n",
            "Epoch 3/20\n",
            "28/28 [==============================] - 527s 19s/step - loss: 2.6728 - accuracy: 0.2471 - val_loss: 2.6891 - val_accuracy: 0.2156\n",
            "Epoch 4/20\n",
            "28/28 [==============================] - 515s 19s/step - loss: 2.4767 - accuracy: 0.3066 - val_loss: 2.5840 - val_accuracy: 0.2661\n",
            "Epoch 5/20\n",
            "28/28 [==============================] - 527s 19s/step - loss: 2.3975 - accuracy: 0.3055 - val_loss: 2.5372 - val_accuracy: 0.2385\n",
            "Epoch 6/20\n",
            "28/28 [==============================] - 512s 18s/step - loss: 2.2798 - accuracy: 0.3593 - val_loss: 2.4155 - val_accuracy: 0.3073\n",
            "Epoch 7/20\n",
            "28/28 [==============================] - 511s 18s/step - loss: 2.1588 - accuracy: 0.3833 - val_loss: 2.3319 - val_accuracy: 0.2936\n",
            "Epoch 8/20\n",
            "28/28 [==============================] - 516s 19s/step - loss: 2.0831 - accuracy: 0.4279 - val_loss: 2.2520 - val_accuracy: 0.3578\n",
            "Epoch 9/20\n",
            "28/28 [==============================] - 508s 19s/step - loss: 2.0167 - accuracy: 0.4371 - val_loss: 2.2901 - val_accuracy: 0.3349\n",
            "Epoch 10/20\n",
            "28/28 [==============================] - 452s 17s/step - loss: 1.9627 - accuracy: 0.4519 - val_loss: 2.2152 - val_accuracy: 0.3119\n",
            "Epoch 11/20\n",
            "28/28 [==============================] - 511s 18s/step - loss: 1.8788 - accuracy: 0.4954 - val_loss: 2.1510 - val_accuracy: 0.3853\n",
            "Epoch 12/20\n",
            "27/28 [===========================>..] - ETA: 12s - loss: 1.8136 - accuracy: 0.5095"
          ]
        }
      ],
      "source": [
        "history_resnet = model_resnet.fit(\n",
        "    train_images,\n",
        "    epochs = 20,   # max 15 epoch\n",
        "    validation_data=val_images,\n",
        "    callbacks=[es_callback,tb_callback]\n",
        ")"
      ]
    },
    {
      "cell_type": "code",
      "execution_count": null,
      "metadata": {
        "id": "hbeZtXmB4XE1"
      },
      "outputs": [],
      "source": [
        "model_resnet.evaluate(test_images)"
      ]
    },
    {
      "cell_type": "code",
      "source": [],
      "metadata": {
        "id": "bCynzc9snU1s"
      },
      "execution_count": null,
      "outputs": []
    }
  ],
  "metadata": {
    "accelerator": "TPU",
    "colab": {
      "provenance": []
    },
    "gpuClass": "standard",
    "kernelspec": {
      "display_name": "Python 3",
      "name": "python3"
    },
    "language_info": {
      "name": "python"
    }
  },
  "nbformat": 4,
  "nbformat_minor": 0
}