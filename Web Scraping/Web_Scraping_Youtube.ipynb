{
  "nbformat": 4,
  "nbformat_minor": 0,
  "metadata": {
    "colab": {
      "provenance": []
    },
    "kernelspec": {
      "name": "python3",
      "display_name": "Python 3"
    },
    "language_info": {
      "name": "python"
    }
  },
  "cells": [
    {
      "cell_type": "markdown",
      "source": [
        "# Youtube Web Scraping"
      ],
      "metadata": {
        "id": "VgMDetuaDGLc"
      }
    },
    {
      "cell_type": "code",
      "source": [
        "! pip install pytube"
      ],
      "metadata": {
        "colab": {
          "base_uri": "https://localhost:8080/"
        },
        "id": "cYsQjUknDWRN",
        "outputId": "4f7c2848-7cbd-46e0-d97f-a1e13a9d13b8"
      },
      "execution_count": 2,
      "outputs": [
        {
          "output_type": "stream",
          "name": "stdout",
          "text": [
            "Looking in indexes: https://pypi.org/simple, https://us-python.pkg.dev/colab-wheels/public/simple/\n",
            "Collecting pytube\n",
            "  Downloading pytube-12.1.2-py3-none-any.whl (57 kB)\n",
            "\u001b[K     |████████████████████████████████| 57 kB 2.9 MB/s \n",
            "\u001b[?25hInstalling collected packages: pytube\n",
            "Successfully installed pytube-12.1.2\n"
          ]
        }
      ]
    },
    {
      "cell_type": "code",
      "execution_count": 3,
      "metadata": {
        "id": "N8zVArNOC_O9"
      },
      "outputs": [],
      "source": [
        "# Importing Pytube module\n",
        "\n",
        "from pytube import YouTube\n"
      ]
    },
    {
      "cell_type": "code",
      "source": [
        "# Taking a link from user\n",
        "link = input(\"Enter Link of Youtube Video: \")\n"
      ],
      "metadata": {
        "colab": {
          "base_uri": "https://localhost:8080/"
        },
        "id": "q_KfEHSDDSpS",
        "outputId": "a2d8def1-addc-4787-a509-e5b5eabf3e51"
      },
      "execution_count": 4,
      "outputs": [
        {
          "name": "stdout",
          "output_type": "stream",
          "text": [
            "Enter Link of Youtube Video: https://www.youtube.com/watch?v=SlPhMPnQ58k\n"
          ]
        }
      ]
    },
    {
      "cell_type": "code",
      "source": [
        "yt = YouTube(link)"
      ],
      "metadata": {
        "id": "wdtDdC1cDjjO"
      },
      "execution_count": 5,
      "outputs": []
    },
    {
      "cell_type": "code",
      "source": [
        "# To print title\n",
        "print(\"Title :\", yt.title)\n",
        "# To get number of views\n",
        "print(\"Views :\", yt.views)\n",
        "# To get the length of video\n",
        "print(\"Duration :\", yt.length)\n",
        "# To get description\n",
        "print(\"Description :\", yt.description)\n",
        "# To get ratings\n",
        "print(\"Ratings :\", yt.rating)"
      ],
      "metadata": {
        "colab": {
          "base_uri": "https://localhost:8080/"
        },
        "id": "56qTxPWHD3i3",
        "outputId": "0f7b1f6d-eeb0-4aa7-bcfc-4b75e7fd47a9"
      },
      "execution_count": 6,
      "outputs": [
        {
          "output_type": "stream",
          "name": "stdout",
          "text": [
            "Title : Maroon 5 - Memories (Official Video)\n",
            "Views : 890289331\n",
            "Duration : 195\n",
            "Description : “Memories” is out now:\n",
            "https://smarturl.it/MemoriesMaroon5\n",
            "\n",
            "For more, visit:\n",
            "https://www.facebook.com/maroon5\n",
            "https://twitter.com/maroon5\n",
            "https://www.instagram.com/maroon5\n",
            "\n",
            "Sign up for updates: http://smarturl.it/Maroon5.News\n",
            "\n",
            "#Maroon5 #Memories #M5\n",
            "\n",
            "Music video by Maroon 5 performing Memories. © 2019 Interscope Records (222 Records)\n",
            "\n",
            "http://vevo.ly/wdiQiA\n",
            "Ratings : None\n"
          ]
        }
      ]
    },
    {
      "cell_type": "code",
      "source": [
        "stream = yt.streams.get_highest_resolution()\n",
        "stream.download()\n",
        "print(\"Download completed!!\")"
      ],
      "metadata": {
        "colab": {
          "base_uri": "https://localhost:8080/"
        },
        "id": "K0a4dcjJD7Z6",
        "outputId": "643cb7fc-d176-4afe-959e-ba021cd34ff1"
      },
      "execution_count": 7,
      "outputs": [
        {
          "output_type": "stream",
          "name": "stdout",
          "text": [
            "Download completed!!\n"
          ]
        }
      ]
    },
    {
      "cell_type": "code",
      "source": [],
      "metadata": {
        "id": "eMqY0089EOHN"
      },
      "execution_count": null,
      "outputs": []
    }
  ]
}