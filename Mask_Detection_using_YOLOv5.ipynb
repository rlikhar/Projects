{
  "nbformat": 4,
  "nbformat_minor": 0,
  "metadata": {
    "colab": {
      "provenance": []
    },
    "kernelspec": {
      "name": "python3",
      "display_name": "Python 3"
    },
    "language_info": {
      "name": "python"
    },
    "accelerator": "GPU",
    "gpuClass": "standard"
  },
  "cells": [
    {
      "cell_type": "markdown",
      "source": [
        "# **YOLO v5**"
      ],
      "metadata": {
        "id": "trP02DrQk3Ji"
      }
    },
    {
      "cell_type": "code",
      "source": [
        "!git clone https://github.com/ultralytics/yolov5\n"
      ],
      "metadata": {
        "id": "g5ddrgFalG34"
      },
      "execution_count": null,
      "outputs": []
    },
    {
      "cell_type": "code",
      "source": [
        "! pip install -r yolov5/requirements.txt"
      ],
      "metadata": {
        "id": "vfny0c7blMnW"
      },
      "execution_count": null,
      "outputs": []
    },
    {
      "cell_type": "code",
      "source": [
        "!cd yolov5"
      ],
      "metadata": {
        "id": "mQSf3IIFlVRR"
      },
      "execution_count": null,
      "outputs": []
    },
    {
      "cell_type": "code",
      "source": [
        "!pip install gdown"
      ],
      "metadata": {
        "id": "56lX3vDqlk4O"
      },
      "execution_count": null,
      "outputs": []
    },
    {
      "cell_type": "code",
      "source": [
        "!gdown 10PeKXyR9h7rGqZwZIQj3qKS7EMW5t2RZ\n"
      ],
      "metadata": {
        "id": "G2_ozWempBR6"
      },
      "execution_count": null,
      "outputs": []
    },
    {
      "cell_type": "code",
      "source": [
        "!unzip ./mask_data.zip"
      ],
      "metadata": {
        "id": "qwbyyQhRpIvs"
      },
      "execution_count": null,
      "outputs": []
    },
    {
      "cell_type": "markdown",
      "source": [
        "# Add mask.yaml file in data folder"
      ],
      "metadata": {
        "id": "Lfl069rwate1"
      }
    },
    {
      "cell_type": "markdown",
      "source": [
        "$ YOLOv5 🚀 by Ultralytics, GPL-3.0 license\n",
        "\n",
        "\n",
        "train: ../mask_data/images/train\n",
        "\n",
        "val: ../mask_data/images/val\n",
        "\n",
        "test:  # test images (optional)\n",
        "\n",
        "$ Classes\n",
        "nc: 2  # number of classes\n",
        "\n",
        "$ class names\n",
        "names: ['with mask', 'without mask']  \n",
        "\n"
      ],
      "metadata": {
        "id": "kSj-eakGazMK"
      }
    },
    {
      "cell_type": "code",
      "source": [
        "!python /content/yolov5/detect.py --source /content/yolov5/data/images/bus.jpg --weight yolov5s.pt"
      ],
      "metadata": {
        "id": "jm_FHmdFYUyK"
      },
      "execution_count": null,
      "outputs": []
    },
    {
      "cell_type": "markdown",
      "source": [
        "## Train for Mask Dataset"
      ],
      "metadata": {
        "id": "s_ctFPz2ZxwR"
      }
    },
    {
      "cell_type": "code",
      "source": [
        "!python /content/yolov5/train.py --img 640 --batch 16 --epochs 5 --data mask.yaml --weights yolov5s.pt\n"
      ],
      "metadata": {
        "id": "z5qGWS-LpRY5"
      },
      "execution_count": null,
      "outputs": []
    },
    {
      "cell_type": "code",
      "source": [
        "!python /content/yolov5/detect.py --weights /content/yolov5/runs/train/exp/weights/best.pt --img 640 --conf 0.4 --source https://www.youtube.com/watch?v=HX_KMfvIc9M"
      ],
      "metadata": {
        "id": "j5YQt12rZxX6"
      },
      "execution_count": null,
      "outputs": []
    },
    {
      "cell_type": "code",
      "source": [
        "!python /content/yolov5/detect.py --weights /content/yolov5/runs/train/exp/weights/best.pt --img 640 --conf 0.4 --source https://www.youtube.com/watch?v=06zflj3-m1Q"
      ],
      "metadata": {
        "id": "7qEITx1QZSAp"
      },
      "execution_count": null,
      "outputs": []
    },
    {
      "cell_type": "code",
      "source": [],
      "metadata": {
        "id": "9EpGyKtMeI8f"
      },
      "execution_count": null,
      "outputs": []
    }
  ]
}