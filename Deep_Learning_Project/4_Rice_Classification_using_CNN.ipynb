{
  "nbformat": 4,
  "nbformat_minor": 0,
  "metadata": {
    "colab": {
      "provenance": []
    },
    "kernelspec": {
      "name": "python3",
      "display_name": "Python 3"
    },
    "language_info": {
      "name": "python"
    },
    "accelerator": "GPU",
    "gpuClass": "standard"
  },
  "cells": [
    {
      "cell_type": "markdown",
      "source": [
        "# Rice Data - Using CNN Model"
      ],
      "metadata": {
        "id": "cVdbpgjlH8q1"
      }
    },
    {
      "cell_type": "code",
      "execution_count": null,
      "metadata": {
        "id": "O_SpZAivyYIO"
      },
      "outputs": [],
      "source": [
        "import os\n",
        "\n",
        "import numpy as np\n",
        "import pandas as pd\n",
        "from sklearn.model_selection import train_test_split, StratifiedShuffleSplit\n",
        "from matplotlib import pyplot as plt\n",
        "import seaborn as sns\n",
        "import tensorflow as tf\n",
        "\n",
        "from tensorflow.keras.preprocessing.image import ImageDataGenerator\n",
        "from tensorflow.keras.models import Sequential\n",
        "from tensorflow.keras.layers import Conv2D, MaxPool2D, Flatten, Dense\n",
        "from tensorflow.keras.utils import plot_model\n",
        "from tensorflow.keras.callbacks import EarlyStopping\n",
        "from tensorflow.keras.callbacks import TensorBoard\n",
        "from sklearn.metrics import confusion_matrix, classification_report"
      ]
    },
    {
      "cell_type": "code",
      "source": [
        "df = pd.DataFrame(columns=[\"image_name\",\"label\"])"
      ],
      "metadata": {
        "id": "e8TUvIvFzHUn"
      },
      "execution_count": null,
      "outputs": []
    },
    {
      "cell_type": "code",
      "source": [
        "import gdown"
      ],
      "metadata": {
        "id": "UD-FdfBl3lx0"
      },
      "execution_count": null,
      "outputs": []
    },
    {
      "cell_type": "code",
      "source": [
        "!gdown --fuzzy https://drive.google.com/file/d/1J5pyr0VSoJUUrsTWcoMRG7X6AtMPLa0-/view?usp=sharing"
      ],
      "metadata": {
        "id": "l8-pHVMd4KXT",
        "colab": {
          "base_uri": "https://localhost:8080/"
        },
        "outputId": "3caa3e6b-38df-4160-9ef2-b5344b151bdc"
      },
      "execution_count": null,
      "outputs": [
        {
          "output_type": "stream",
          "name": "stdout",
          "text": [
            "Downloading...\n",
            "From: https://drive.google.com/uc?id=1J5pyr0VSoJUUrsTWcoMRG7X6AtMPLa0-\n",
            "To: /content/CNN_Rice_Data1.tar.xz\n",
            "100% 156M/156M [00:00<00:00, 260MB/s]\n"
          ]
        }
      ]
    },
    {
      "cell_type": "code",
      "source": [
        "!tar xvf /content/CNN_Rice_Data1.tar.xz"
      ],
      "metadata": {
        "id": "l8k2L4N-2klr"
      },
      "execution_count": null,
      "outputs": []
    },
    {
      "cell_type": "code",
      "source": [
        "IMAGE_DIR = \"/content/CNN_Rice_Data/images/\""
      ],
      "metadata": {
        "id": "xqTLUH2uzOTn"
      },
      "execution_count": null,
      "outputs": []
    },
    {
      "cell_type": "code",
      "source": [
        "for index, image in enumerate(os.listdir(IMAGE_DIR)):\n",
        "    if image.startswith(\"A\"):\n",
        "        df.loc[index,\"image_name\"] = image\n",
        "        df.loc[index,\"label\"] = \"Arborio\"\n",
        "    elif image.startswith(\"b\"):\n",
        "        df.loc[index,\"image_name\"] = image\n",
        "        df.loc[index] = [image,\"Basmati\"]\n",
        "    elif image.startswith(\"B\"):\n",
        "        df.loc[index,\"image_name\"] = image\n",
        "        df.loc[index] = [image,\"Basmati\"]\n",
        "    elif image.startswith(\"I\"):\n",
        "        df.loc[index,\"image_name\"] = image\n",
        "        df.loc[index] = [image,\"Ipsala\"]\n",
        "    elif image.startswith(\"J\"):\n",
        "        df.loc[index,\"image_name\"] = image\n",
        "        df.loc[index] = [image,\"Jasmine\"]\n",
        "    elif image.startswith(\"K\"):\n",
        "        df.loc[index,\"image_name\"] = image\n",
        "        df.loc[index] = [image,\"Karacadag\"]"
      ],
      "metadata": {
        "id": "RGiCZTwyzwhr"
      },
      "execution_count": null,
      "outputs": []
    },
    {
      "cell_type": "code",
      "source": [
        "df.head()"
      ],
      "metadata": {
        "colab": {
          "base_uri": "https://localhost:8080/",
          "height": 206
        },
        "id": "K1jEXg0Ozx8L",
        "outputId": "94badf0f-9e7a-4ae0-c719-68c27cb80c06"
      },
      "execution_count": null,
      "outputs": [
        {
          "output_type": "execute_result",
          "data": {
            "text/plain": [
              "             image_name      label\n",
              "0    basmati (9413).jpg    Basmati\n",
              "1     Jasmine (648).jpg    Jasmine\n",
              "2     Ipsala (3205).jpg     Ipsala\n",
              "3    Arborio (9794).jpg    Arborio\n",
              "4  Karacadag (2435).jpg  Karacadag"
            ],
            "text/html": [
              "\n",
              "  <div id=\"df-2114e1cf-374d-4505-8306-6bdb3766d4e7\">\n",
              "    <div class=\"colab-df-container\">\n",
              "      <div>\n",
              "<style scoped>\n",
              "    .dataframe tbody tr th:only-of-type {\n",
              "        vertical-align: middle;\n",
              "    }\n",
              "\n",
              "    .dataframe tbody tr th {\n",
              "        vertical-align: top;\n",
              "    }\n",
              "\n",
              "    .dataframe thead th {\n",
              "        text-align: right;\n",
              "    }\n",
              "</style>\n",
              "<table border=\"1\" class=\"dataframe\">\n",
              "  <thead>\n",
              "    <tr style=\"text-align: right;\">\n",
              "      <th></th>\n",
              "      <th>image_name</th>\n",
              "      <th>label</th>\n",
              "    </tr>\n",
              "  </thead>\n",
              "  <tbody>\n",
              "    <tr>\n",
              "      <th>0</th>\n",
              "      <td>basmati (9413).jpg</td>\n",
              "      <td>Basmati</td>\n",
              "    </tr>\n",
              "    <tr>\n",
              "      <th>1</th>\n",
              "      <td>Jasmine (648).jpg</td>\n",
              "      <td>Jasmine</td>\n",
              "    </tr>\n",
              "    <tr>\n",
              "      <th>2</th>\n",
              "      <td>Ipsala (3205).jpg</td>\n",
              "      <td>Ipsala</td>\n",
              "    </tr>\n",
              "    <tr>\n",
              "      <th>3</th>\n",
              "      <td>Arborio (9794).jpg</td>\n",
              "      <td>Arborio</td>\n",
              "    </tr>\n",
              "    <tr>\n",
              "      <th>4</th>\n",
              "      <td>Karacadag (2435).jpg</td>\n",
              "      <td>Karacadag</td>\n",
              "    </tr>\n",
              "  </tbody>\n",
              "</table>\n",
              "</div>\n",
              "      <button class=\"colab-df-convert\" onclick=\"convertToInteractive('df-2114e1cf-374d-4505-8306-6bdb3766d4e7')\"\n",
              "              title=\"Convert this dataframe to an interactive table.\"\n",
              "              style=\"display:none;\">\n",
              "        \n",
              "  <svg xmlns=\"http://www.w3.org/2000/svg\" height=\"24px\"viewBox=\"0 0 24 24\"\n",
              "       width=\"24px\">\n",
              "    <path d=\"M0 0h24v24H0V0z\" fill=\"none\"/>\n",
              "    <path d=\"M18.56 5.44l.94 2.06.94-2.06 2.06-.94-2.06-.94-.94-2.06-.94 2.06-2.06.94zm-11 1L8.5 8.5l.94-2.06 2.06-.94-2.06-.94L8.5 2.5l-.94 2.06-2.06.94zm10 10l.94 2.06.94-2.06 2.06-.94-2.06-.94-.94-2.06-.94 2.06-2.06.94z\"/><path d=\"M17.41 7.96l-1.37-1.37c-.4-.4-.92-.59-1.43-.59-.52 0-1.04.2-1.43.59L10.3 9.45l-7.72 7.72c-.78.78-.78 2.05 0 2.83L4 21.41c.39.39.9.59 1.41.59.51 0 1.02-.2 1.41-.59l7.78-7.78 2.81-2.81c.8-.78.8-2.07 0-2.86zM5.41 20L4 18.59l7.72-7.72 1.47 1.35L5.41 20z\"/>\n",
              "  </svg>\n",
              "      </button>\n",
              "      \n",
              "  <style>\n",
              "    .colab-df-container {\n",
              "      display:flex;\n",
              "      flex-wrap:wrap;\n",
              "      gap: 12px;\n",
              "    }\n",
              "\n",
              "    .colab-df-convert {\n",
              "      background-color: #E8F0FE;\n",
              "      border: none;\n",
              "      border-radius: 50%;\n",
              "      cursor: pointer;\n",
              "      display: none;\n",
              "      fill: #1967D2;\n",
              "      height: 32px;\n",
              "      padding: 0 0 0 0;\n",
              "      width: 32px;\n",
              "    }\n",
              "\n",
              "    .colab-df-convert:hover {\n",
              "      background-color: #E2EBFA;\n",
              "      box-shadow: 0px 1px 2px rgba(60, 64, 67, 0.3), 0px 1px 3px 1px rgba(60, 64, 67, 0.15);\n",
              "      fill: #174EA6;\n",
              "    }\n",
              "\n",
              "    [theme=dark] .colab-df-convert {\n",
              "      background-color: #3B4455;\n",
              "      fill: #D2E3FC;\n",
              "    }\n",
              "\n",
              "    [theme=dark] .colab-df-convert:hover {\n",
              "      background-color: #434B5C;\n",
              "      box-shadow: 0px 1px 3px 1px rgba(0, 0, 0, 0.15);\n",
              "      filter: drop-shadow(0px 1px 2px rgba(0, 0, 0, 0.3));\n",
              "      fill: #FFFFFF;\n",
              "    }\n",
              "  </style>\n",
              "\n",
              "      <script>\n",
              "        const buttonEl =\n",
              "          document.querySelector('#df-2114e1cf-374d-4505-8306-6bdb3766d4e7 button.colab-df-convert');\n",
              "        buttonEl.style.display =\n",
              "          google.colab.kernel.accessAllowed ? 'block' : 'none';\n",
              "\n",
              "        async function convertToInteractive(key) {\n",
              "          const element = document.querySelector('#df-2114e1cf-374d-4505-8306-6bdb3766d4e7');\n",
              "          const dataTable =\n",
              "            await google.colab.kernel.invokeFunction('convertToInteractive',\n",
              "                                                     [key], {});\n",
              "          if (!dataTable) return;\n",
              "\n",
              "          const docLinkHtml = 'Like what you see? Visit the ' +\n",
              "            '<a target=\"_blank\" href=https://colab.research.google.com/notebooks/data_table.ipynb>data table notebook</a>'\n",
              "            + ' to learn more about interactive tables.';\n",
              "          element.innerHTML = '';\n",
              "          dataTable['output_type'] = 'display_data';\n",
              "          await google.colab.output.renderOutput(dataTable, element);\n",
              "          const docLink = document.createElement('div');\n",
              "          docLink.innerHTML = docLinkHtml;\n",
              "          element.appendChild(docLink);\n",
              "        }\n",
              "      </script>\n",
              "    </div>\n",
              "  </div>\n",
              "  "
            ]
          },
          "metadata": {},
          "execution_count": 8
        }
      ]
    },
    {
      "cell_type": "code",
      "source": [
        "df.shape"
      ],
      "metadata": {
        "colab": {
          "base_uri": "https://localhost:8080/"
        },
        "id": "yOnV-New76CH",
        "outputId": "5822489f-9f4a-4a33-9bb9-a2f94d0dbc46"
      },
      "execution_count": null,
      "outputs": [
        {
          "output_type": "execute_result",
          "data": {
            "text/plain": [
              "(75000, 2)"
            ]
          },
          "metadata": {},
          "execution_count": 9
        }
      ]
    },
    {
      "cell_type": "code",
      "source": [
        "df.label.value_counts()"
      ],
      "metadata": {
        "colab": {
          "base_uri": "https://localhost:8080/"
        },
        "id": "WU2ZLHHv_lt2",
        "outputId": "632b71b6-fab6-4980-e49f-6a1d4fa3ed65"
      },
      "execution_count": null,
      "outputs": [
        {
          "output_type": "execute_result",
          "data": {
            "text/plain": [
              "Basmati      15000\n",
              "Jasmine      15000\n",
              "Ipsala       15000\n",
              "Arborio      15000\n",
              "Karacadag    15000\n",
              "Name: label, dtype: int64"
            ]
          },
          "metadata": {},
          "execution_count": 10
        }
      ]
    },
    {
      "cell_type": "code",
      "source": [
        "train_DataGenerator = ImageDataGenerator(\n",
        "    rescale=1/255,\n",
        "    validation_split=0.2\n",
        ")\n",
        "\n",
        "test_DataGenerator = ImageDataGenerator(\n",
        "    rescale=1/255,\n",
        ")"
      ],
      "metadata": {
        "id": "K5-gw7rhzxzz"
      },
      "execution_count": null,
      "outputs": []
    },
    {
      "cell_type": "code",
      "source": [
        "train_df, test_df = train_test_split(df, test_size=0.2, shuffle=True, random_state=42)"
      ],
      "metadata": {
        "id": "Tk1T2eqKzxqc"
      },
      "execution_count": null,
      "outputs": []
    },
    {
      "cell_type": "code",
      "source": [
        "train_df.shape"
      ],
      "metadata": {
        "colab": {
          "base_uri": "https://localhost:8080/"
        },
        "id": "1Uj5H3Buzxed",
        "outputId": "66d74a31-36bd-4284-b629-b0715febec32"
      },
      "execution_count": null,
      "outputs": [
        {
          "output_type": "execute_result",
          "data": {
            "text/plain": [
              "(60000, 2)"
            ]
          },
          "metadata": {},
          "execution_count": 13
        }
      ]
    },
    {
      "cell_type": "code",
      "source": [
        "test_df.shape"
      ],
      "metadata": {
        "colab": {
          "base_uri": "https://localhost:8080/"
        },
        "id": "GtvB4uD-z7bO",
        "outputId": "198c5b92-1f7d-410a-fc63-f17f519a1208"
      },
      "execution_count": null,
      "outputs": [
        {
          "output_type": "execute_result",
          "data": {
            "text/plain": [
              "(15000, 2)"
            ]
          },
          "metadata": {},
          "execution_count": 14
        }
      ]
    },
    {
      "cell_type": "code",
      "source": [
        "train_images = train_DataGenerator.flow_from_dataframe(\n",
        "    dataframe=train_df,\n",
        "    x_col=\"image_name\",\n",
        "    y_col=\"label\",\n",
        "    directory = IMAGE_DIR,\n",
        "    target_size=(128, 128),\n",
        "    class_mode=\"categorical\",\n",
        "    seed=42,\n",
        "    subset='training'\n",
        ")\n",
        "\n",
        "val_images = train_DataGenerator.flow_from_dataframe(\n",
        "    dataframe=train_df,\n",
        "    x_col=\"image_name\",\n",
        "    y_col=\"label\",\n",
        "    directory = IMAGE_DIR,\n",
        "    target_size=(128, 128),\n",
        "    class_mode=\"categorical\",\n",
        "    seed=42,\n",
        "    subset='validation'\n",
        ")\n",
        "\n",
        "test_images = test_DataGenerator.flow_from_dataframe(\n",
        "    dataframe=test_df,\n",
        "    x_col=\"image_name\",\n",
        "    y_col=\"label\",\n",
        "    directory = IMAGE_DIR,\n",
        "    target_size=(128, 128),\n",
        "    class_mode=\"categorical\"\n",
        ")"
      ],
      "metadata": {
        "colab": {
          "base_uri": "https://localhost:8080/"
        },
        "id": "2jh8Yo2Oz7YY",
        "outputId": "6bba0642-e9d9-4cc5-ded7-e76ede0e0efd"
      },
      "execution_count": null,
      "outputs": [
        {
          "output_type": "stream",
          "name": "stdout",
          "text": [
            "Found 48000 validated image filenames belonging to 5 classes.\n",
            "Found 12000 validated image filenames belonging to 5 classes.\n",
            "Found 15000 validated image filenames belonging to 5 classes.\n"
          ]
        }
      ]
    },
    {
      "cell_type": "code",
      "source": [
        "test_images.image_shape"
      ],
      "metadata": {
        "colab": {
          "base_uri": "https://localhost:8080/"
        },
        "id": "nmO5xyZjz7V_",
        "outputId": "8d477c45-8b5f-48b5-ff97-d6e03e03d239"
      },
      "execution_count": null,
      "outputs": [
        {
          "output_type": "execute_result",
          "data": {
            "text/plain": [
              "(128, 128, 3)"
            ]
          },
          "metadata": {},
          "execution_count": 16
        }
      ]
    },
    {
      "cell_type": "code",
      "source": [
        "test_images.class_indices"
      ],
      "metadata": {
        "colab": {
          "base_uri": "https://localhost:8080/"
        },
        "id": "NtikffBn8UiZ",
        "outputId": "0c4028a3-4b71-4f63-ff4e-874b4db479e0"
      },
      "execution_count": null,
      "outputs": [
        {
          "output_type": "execute_result",
          "data": {
            "text/plain": [
              "{'Arborio': 0, 'Basmati': 1, 'Ipsala': 2, 'Jasmine': 3, 'Karacadag': 4}"
            ]
          },
          "metadata": {},
          "execution_count": 17
        }
      ]
    },
    {
      "cell_type": "code",
      "source": [
        "train_images.class_indices"
      ],
      "metadata": {
        "colab": {
          "base_uri": "https://localhost:8080/"
        },
        "id": "RKuzru1m8Sae",
        "outputId": "14a2f303-ed6c-41fb-c5a1-6c50943b3b70"
      },
      "execution_count": null,
      "outputs": [
        {
          "output_type": "execute_result",
          "data": {
            "text/plain": [
              "{'Arborio': 0, 'Basmati': 1, 'Ipsala': 2, 'Jasmine': 3, 'Karacadag': 4}"
            ]
          },
          "metadata": {},
          "execution_count": 18
        }
      ]
    },
    {
      "cell_type": "code",
      "source": [
        "model = Sequential([\n",
        "    Conv2D(filters = 16, kernel_size = (3,3), activation = \"relu\", input_shape = (128, 128, 3), name= \"Input_Layer\"),\n",
        "    MaxPool2D((2,2), name = \"Pooling_1\"),\n",
        "    Conv2D(filters = 32, kernel_size = (3,3), activation = \"relu\", name= \"Conv_1\"),\n",
        "    Conv2D(filters = 64, kernel_size = (3,3), activation = \"relu\", name= \"Conv_2\"),\n",
        "    MaxPool2D((2,2), name = \"Pooling_2\"),\n",
        "    Conv2D(filters = 64, kernel_size = (3,3), activation = \"relu\", name= \"Conv_3\"),\n",
        "    Conv2D(filters = 128, kernel_size = (3,3), activation = \"relu\", name= \"Conv_4\"),\n",
        "    MaxPool2D((2,2), name = \"Pooling_3\"),\n",
        "    Flatten(),\n",
        "    Dense(128, activation=\"tanh\", name=\"Dense_1\"),\n",
        "    Dense(64, activation=\"relu\", name=\"Dense_2\"),\n",
        "    Dense(16, activation=\"relu\", name=\"Dense_3\"),\n",
        "    Dense(5, activation='sigmoid', name= 'Output')])\n",
        "    "
      ],
      "metadata": {
        "id": "dPhJRqGWz7Ui"
      },
      "execution_count": null,
      "outputs": []
    },
    {
      "cell_type": "code",
      "source": [
        "model.summary()"
      ],
      "metadata": {
        "colab": {
          "base_uri": "https://localhost:8080/"
        },
        "id": "DxutmDX7z7Sf",
        "outputId": "0d0c9409-fd60-4ac7-fe01-83fcb94764f0"
      },
      "execution_count": null,
      "outputs": [
        {
          "output_type": "stream",
          "name": "stdout",
          "text": [
            "Model: \"sequential_1\"\n",
            "_________________________________________________________________\n",
            " Layer (type)                Output Shape              Param #   \n",
            "=================================================================\n",
            " Input_Layer (Conv2D)        (None, 126, 126, 16)      448       \n",
            "                                                                 \n",
            " Pooling_1 (MaxPooling2D)    (None, 63, 63, 16)        0         \n",
            "                                                                 \n",
            " Conv_1 (Conv2D)             (None, 61, 61, 32)        4640      \n",
            "                                                                 \n",
            " Conv_2 (Conv2D)             (None, 59, 59, 64)        18496     \n",
            "                                                                 \n",
            " Pooling_2 (MaxPooling2D)    (None, 29, 29, 64)        0         \n",
            "                                                                 \n",
            " Conv_3 (Conv2D)             (None, 27, 27, 64)        36928     \n",
            "                                                                 \n",
            " Conv_4 (Conv2D)             (None, 25, 25, 128)       73856     \n",
            "                                                                 \n",
            " Pooling_3 (MaxPooling2D)    (None, 12, 12, 128)       0         \n",
            "                                                                 \n",
            " flatten_1 (Flatten)         (None, 18432)             0         \n",
            "                                                                 \n",
            " Dense_1 (Dense)             (None, 128)               2359424   \n",
            "                                                                 \n",
            " Dense_2 (Dense)             (None, 64)                8256      \n",
            "                                                                 \n",
            " Dense_3 (Dense)             (None, 16)                1040      \n",
            "                                                                 \n",
            " Output (Dense)              (None, 5)                 85        \n",
            "                                                                 \n",
            "=================================================================\n",
            "Total params: 2,503,173\n",
            "Trainable params: 2,503,173\n",
            "Non-trainable params: 0\n",
            "_________________________________________________________________\n"
          ]
        }
      ]
    },
    {
      "cell_type": "code",
      "source": [
        "model.compile(\n",
        "    optimizer=\"adam\",\n",
        "    loss=\"categorical_crossentropy\",\n",
        "    metrics=\"accuracy\"\n",
        ")\n",
        "\n",
        "# more optimizers -rmsprop, adam, \n",
        "# more loss - categorical_crossentropy, binary_crossentropy, sparse_categorical_crossentropy"
      ],
      "metadata": {
        "id": "076D3HXJz7QE"
      },
      "execution_count": null,
      "outputs": []
    },
    {
      "cell_type": "code",
      "source": [
        "train_images.class_indices"
      ],
      "metadata": {
        "colab": {
          "base_uri": "https://localhost:8080/"
        },
        "id": "34NM-XXRz7NK",
        "outputId": "ea5404d8-e07d-4951-b8a2-dd4febdf83cc"
      },
      "execution_count": null,
      "outputs": [
        {
          "output_type": "execute_result",
          "data": {
            "text/plain": [
              "{'Arborio': 0, 'Basmati': 1, 'Ipsala': 2, 'Jasmine': 3, 'Karacadag': 4}"
            ]
          },
          "metadata": {},
          "execution_count": 53
        }
      ]
    },
    {
      "cell_type": "code",
      "source": [
        "es_callback = EarlyStopping(\n",
        "    monitor = 'val_loss',\n",
        "    patience=5,\n",
        "    restore_best_weights = True\n",
        "    \n",
        ")"
      ],
      "metadata": {
        "id": "kbyrfAOzz7BV"
      },
      "execution_count": null,
      "outputs": []
    },
    {
      "cell_type": "code",
      "source": [
        "tb_callback = TensorBoard(log_dir = \"../tensorboard_logs\", histogram_freq = 1)"
      ],
      "metadata": {
        "id": "_gt37nofz6-h"
      },
      "execution_count": null,
      "outputs": []
    },
    {
      "cell_type": "code",
      "source": [
        "history = model.fit(\n",
        "    train_images,\n",
        "    epochs = 20,   # max 15 epoch\n",
        "    validation_data=val_images,\n",
        "    callbacks=[es_callback,tb_callback]\n",
        ")"
      ],
      "metadata": {
        "colab": {
          "base_uri": "https://localhost:8080/"
        },
        "id": "J-Ft24h7z6f8",
        "outputId": "bd529b0d-65b8-486b-b5be-09572dbd2335"
      },
      "execution_count": null,
      "outputs": [
        {
          "output_type": "stream",
          "name": "stdout",
          "text": [
            "Epoch 1/20\n",
            "1500/1500 [==============================] - 86s 57ms/step - loss: 0.1348 - accuracy: 0.9533 - val_loss: 0.1068 - val_accuracy: 0.9658\n",
            "Epoch 2/20\n",
            "1500/1500 [==============================] - 80s 53ms/step - loss: 0.0541 - accuracy: 0.9824 - val_loss: 0.0351 - val_accuracy: 0.9881\n",
            "Epoch 3/20\n",
            "1500/1500 [==============================] - 84s 56ms/step - loss: 0.0311 - accuracy: 0.9903 - val_loss: 0.0244 - val_accuracy: 0.9916\n",
            "Epoch 4/20\n",
            "1500/1500 [==============================] - 80s 53ms/step - loss: 0.0252 - accuracy: 0.9918 - val_loss: 0.0325 - val_accuracy: 0.9895\n",
            "Epoch 5/20\n",
            "1500/1500 [==============================] - 78s 52ms/step - loss: 0.0223 - accuracy: 0.9927 - val_loss: 0.0187 - val_accuracy: 0.9950\n",
            "Epoch 6/20\n",
            "1500/1500 [==============================] - 84s 56ms/step - loss: 0.0197 - accuracy: 0.9938 - val_loss: 0.0201 - val_accuracy: 0.9935\n",
            "Epoch 7/20\n",
            "1500/1500 [==============================] - 83s 55ms/step - loss: 0.0188 - accuracy: 0.9936 - val_loss: 0.0193 - val_accuracy: 0.9940\n",
            "Epoch 8/20\n",
            "1500/1500 [==============================] - 87s 58ms/step - loss: 0.0162 - accuracy: 0.9948 - val_loss: 0.0245 - val_accuracy: 0.9914\n",
            "Epoch 9/20\n",
            "1500/1500 [==============================] - 81s 54ms/step - loss: 0.0151 - accuracy: 0.9952 - val_loss: 0.0125 - val_accuracy: 0.9962\n",
            "Epoch 10/20\n",
            "1500/1500 [==============================] - 80s 53ms/step - loss: 0.0136 - accuracy: 0.9955 - val_loss: 0.0153 - val_accuracy: 0.9951\n",
            "Epoch 11/20\n",
            "1500/1500 [==============================] - 80s 53ms/step - loss: 0.0172 - accuracy: 0.9942 - val_loss: 0.0160 - val_accuracy: 0.9953\n",
            "Epoch 12/20\n",
            "1500/1500 [==============================] - 78s 52ms/step - loss: 0.0137 - accuracy: 0.9958 - val_loss: 0.0217 - val_accuracy: 0.9936\n",
            "Epoch 13/20\n",
            "1500/1500 [==============================] - 80s 53ms/step - loss: 0.0130 - accuracy: 0.9957 - val_loss: 0.0200 - val_accuracy: 0.9927\n",
            "Epoch 14/20\n",
            "1500/1500 [==============================] - 80s 53ms/step - loss: 0.0109 - accuracy: 0.9964 - val_loss: 0.0225 - val_accuracy: 0.9933\n"
          ]
        }
      ]
    },
    {
      "cell_type": "code",
      "source": [
        "history.history.keys()"
      ],
      "metadata": {
        "id": "Awj99-_q18sa",
        "colab": {
          "base_uri": "https://localhost:8080/"
        },
        "outputId": "c938aff4-deb8-4b2f-e889-25385990f5d2"
      },
      "execution_count": null,
      "outputs": [
        {
          "output_type": "execute_result",
          "data": {
            "text/plain": [
              "dict_keys(['loss', 'accuracy', 'val_loss', 'val_accuracy'])"
            ]
          },
          "metadata": {},
          "execution_count": 57
        }
      ]
    },
    {
      "cell_type": "code",
      "source": [
        "plt.plot(history.history['accuracy'], label=\"train_accuracy\")\n",
        "plt.plot(history.history['val_accuracy'], label=\"val_accuracy\")\n",
        "plt.xlabel(\"Epochs\")\n",
        "plt.ylabel(\"Accuracy\")\n",
        "plt.legend()\n",
        "plt.show()\n",
        "\n",
        "plt.plot(history.history['loss'], label=\"train_loss\")\n",
        "plt.plot(history.history['val_loss'], label=\"val_loss\")\n",
        "plt.xlabel(\"Epochs\")\n",
        "plt.ylabel(\"Loss\")\n",
        "plt.legend()\n",
        "plt.show()"
      ],
      "metadata": {
        "id": "APJfIUTJ18gp",
        "colab": {
          "base_uri": "https://localhost:8080/",
          "height": 544
        },
        "outputId": "b97c58bb-8d29-4f4b-d99a-4900e0b57a86"
      },
      "execution_count": null,
      "outputs": [
        {
          "output_type": "display_data",
          "data": {
            "text/plain": [
              "<Figure size 432x288 with 1 Axes>"
            ],
            "image/png": "[encoded data removed]"
          },
          "metadata": {
            "needs_background": "light"
          }
        },
        {
          "output_type": "display_data",
          "data": {
            "text/plain": [
              "<Figure size 432x288 with 1 Axes>"
            ],
            "image/png": "[encoded data removed]"
          },
          "metadata": {
            "needs_background": "light"
          }
        }
      ]
    },
    {
      "cell_type": "code",
      "source": [
        "model.save(\"../models/cnn_rice_image_model.h5\", save_format='h5')"
      ],
      "metadata": {
        "id": "84eRR4Qe2Chn"
      },
      "execution_count": null,
      "outputs": []
    },
    {
      "cell_type": "code",
      "source": [
        "model.evaluate(test_images)"
      ],
      "metadata": {
        "id": "eA8_NIBe2Cew",
        "colab": {
          "base_uri": "https://localhost:8080/"
        },
        "outputId": "4bc052fc-e22e-4a89-ee06-384800f5d085"
      },
      "execution_count": null,
      "outputs": [
        {
          "output_type": "stream",
          "name": "stdout",
          "text": [
            "469/469 [==============================] - 18s 39ms/step - loss: 0.0133 - accuracy: 0.9959\n"
          ]
        },
        {
          "output_type": "execute_result",
          "data": {
            "text/plain": [
              "[0.01325768418610096, 0.9959333539009094]"
            ]
          },
          "metadata": {},
          "execution_count": 60
        }
      ]
    },
    {
      "cell_type": "code",
      "source": [
        "test_images.class_indices"
      ],
      "metadata": {
        "id": "o1tjupXf2CdA",
        "colab": {
          "base_uri": "https://localhost:8080/"
        },
        "outputId": "3f6ba523-173b-492d-efcc-36e006136c63"
      },
      "execution_count": null,
      "outputs": [
        {
          "output_type": "execute_result",
          "data": {
            "text/plain": [
              "{'Arborio': 0, 'Basmati': 1, 'Ipsala': 2, 'Jasmine': 3, 'Karacadag': 4}"
            ]
          },
          "metadata": {},
          "execution_count": 30
        }
      ]
    },
    {
      "cell_type": "code",
      "source": [
        "y_predicted = model.predict(test_images)"
      ],
      "metadata": {
        "id": "A0qYr7k0UHCt"
      },
      "execution_count": null,
      "outputs": []
    },
    {
      "cell_type": "code",
      "source": [
        "y_predicted[1]"
      ],
      "metadata": {
        "colab": {
          "base_uri": "https://localhost:8080/"
        },
        "id": "iuZ51DMQNmqV",
        "outputId": "191755e7-c806-4e2e-ab61-19e997aa55b2"
      },
      "execution_count": null,
      "outputs": [
        {
          "output_type": "execute_result",
          "data": {
            "text/plain": [
              "array([3.3758606e-05, 2.4851146e-03, 1.4223956e-03, 9.9605858e-01,\n",
              "       1.8194649e-07], dtype=float32)"
            ]
          },
          "metadata": {},
          "execution_count": 32
        }
      ]
    },
    {
      "cell_type": "code",
      "source": [
        "y_predicted.shape"
      ],
      "metadata": {
        "colab": {
          "base_uri": "https://localhost:8080/"
        },
        "id": "uxkstmOOUXIf",
        "outputId": "3a341f3a-f38d-4c75-8d83-e513c6b43d64"
      },
      "execution_count": null,
      "outputs": [
        {
          "output_type": "execute_result",
          "data": {
            "text/plain": [
              "(15000, 5)"
            ]
          },
          "metadata": {},
          "execution_count": 33
        }
      ]
    },
    {
      "cell_type": "code",
      "source": [
        "np.argmax(y_predicted[1])"
      ],
      "metadata": {
        "colab": {
          "base_uri": "https://localhost:8080/"
        },
        "id": "QtzwhlvvN1KI",
        "outputId": "ea24a21a-dc23-4041-e88b-f14b80307a03"
      },
      "execution_count": null,
      "outputs": [
        {
          "output_type": "execute_result",
          "data": {
            "text/plain": [
              "3"
            ]
          },
          "metadata": {},
          "execution_count": 34
        }
      ]
    },
    {
      "cell_type": "code",
      "source": [
        "y_predicted_labels = [np.argmax(i) for i in y_predicted]\n",
        "y_predicted_labels[:5]"
      ],
      "metadata": {
        "colab": {
          "base_uri": "https://localhost:8080/"
        },
        "id": "jGs4W2LrOEVl",
        "outputId": "04e24862-6629-4f62-93fd-4cc632751f2d"
      },
      "execution_count": null,
      "outputs": [
        {
          "output_type": "execute_result",
          "data": {
            "text/plain": [
              "[0, 3, 3, 3, 1]"
            ]
          },
          "metadata": {},
          "execution_count": 35
        }
      ]
    },
    {
      "cell_type": "code",
      "source": [
        "test_images.labels[:5]"
      ],
      "metadata": {
        "colab": {
          "base_uri": "https://localhost:8080/"
        },
        "id": "nHHz8WDOOj0A",
        "outputId": "7af279e7-19e6-4c9b-8780-962a7b06ec2e"
      },
      "execution_count": null,
      "outputs": [
        {
          "output_type": "execute_result",
          "data": {
            "text/plain": [
              "[0, 4, 1, 2, 2]"
            ]
          },
          "metadata": {},
          "execution_count": 36
        }
      ]
    },
    {
      "cell_type": "code",
      "source": [
        "#predictions = np.reshape(model.predict(test_images),-1).astype(int)"
      ],
      "metadata": {
        "id": "Po5C4c-K18aI"
      },
      "execution_count": null,
      "outputs": []
    },
    {
      "cell_type": "code",
      "source": [
        "#(test_images)"
      ],
      "metadata": {
        "id": "Z4Tap-6FRsox"
      },
      "execution_count": null,
      "outputs": []
    },
    {
      "cell_type": "code",
      "source": [
        "#predictions.shape"
      ],
      "metadata": {
        "id": "lNeInclXQp8u"
      },
      "execution_count": null,
      "outputs": []
    },
    {
      "cell_type": "code",
      "source": [
        "#pred_label = [np.argmax(i) for i in pred]"
      ],
      "metadata": {
        "id": "llK-bMLSW9io"
      },
      "execution_count": null,
      "outputs": []
    },
    {
      "cell_type": "code",
      "source": [
        "#pred_label"
      ],
      "metadata": {
        "id": "glshbrdiXgHw"
      },
      "execution_count": null,
      "outputs": []
    },
    {
      "cell_type": "code",
      "source": [
        "#test_images.labels"
      ],
      "metadata": {
        "id": "Eo9p8LyoX-9N"
      },
      "execution_count": null,
      "outputs": []
    },
    {
      "cell_type": "code",
      "source": [
        "#test_images.labels[:10]"
      ],
      "metadata": {
        "id": "J7j80HlnXjce"
      },
      "execution_count": null,
      "outputs": []
    },
    {
      "cell_type": "code",
      "source": [
        "cm = tf.math.confusion_matrix(labels=test_images.labels, predictions=y_predicted_labels)"
      ],
      "metadata": {
        "id": "bvIuzmORWZ8O"
      },
      "execution_count": null,
      "outputs": []
    },
    {
      "cell_type": "code",
      "source": [
        "#cm = confusion_matrix(pred,test_images.labels)"
      ],
      "metadata": {
        "id": "iFoyNY_H18QW"
      },
      "execution_count": null,
      "outputs": []
    },
    {
      "cell_type": "code",
      "source": [
        " "
      ],
      "metadata": {
        "id": "KpI9RO8xPQ8k"
      },
      "execution_count": null,
      "outputs": []
    },
    {
      "cell_type": "code",
      "source": [
        "plt.figure(dpi=100)\n",
        "sns.heatmap(cm, annot=True,fmt='d', cmap=\"Blues\")\n",
        "plt.xlabel(\"Predicted\")\n",
        "plt.ylabel(\"Actual\")\n",
        "plt.title(\"Confusion Matrix\")\n",
        "plt.show()"
      ],
      "metadata": {
        "id": "1ZPAxh-O2PrH",
        "colab": {
          "base_uri": "https://localhost:8080/",
          "height": 404
        },
        "outputId": "2433a8db-c367-4ba2-b8df-cb8890b1d37f"
      },
      "execution_count": null,
      "outputs": [
        {
          "output_type": "display_data",
          "data": {
            "text/plain": [
              "<Figure size 600x400 with 2 Axes>"
            ],
            "image/png": "[encoded data removed]"
          },
          "metadata": {
            "needs_background": "light"
          }
        }
      ]
    },
    {
      "cell_type": "code",
      "source": [
        "from sklearn.metrics import confusion_matrix\n",
        "cm1= confusion_matrix(test_images.labels,y_predicted_labels, normalize='true')"
      ],
      "metadata": {
        "id": "zjrHxfPWRe7O"
      },
      "execution_count": null,
      "outputs": []
    },
    {
      "cell_type": "code",
      "source": [
        "plt.figure(dpi=100)\n",
        "sns.heatmap(cm1, annot=True, cmap=\"Blues\")\n",
        "plt.xlabel(\"Predicted\")\n",
        "plt.ylabel(\"Actual\")\n",
        "plt.title(\"Confusion Matrix\")\n",
        "plt.show()"
      ],
      "metadata": {
        "colab": {
          "base_uri": "https://localhost:8080/",
          "height": 404
        },
        "id": "FBIYoqArSQQJ",
        "outputId": "a6a8a75b-5e63-47c1-a05e-1d981f541077"
      },
      "execution_count": null,
      "outputs": [
        {
          "output_type": "display_data",
          "data": {
            "text/plain": [
              "<Figure size 600x400 with 2 Axes>"
            ],
            "image/png": "[encoded data removed]"
          },
          "metadata": {
            "needs_background": "light"
          }
        }
      ]
    },
    {
      "cell_type": "code",
      "source": [],
      "metadata": {
        "id": "QOw1IEKdAuGH"
      },
      "execution_count": null,
      "outputs": []
    }
  ]
}